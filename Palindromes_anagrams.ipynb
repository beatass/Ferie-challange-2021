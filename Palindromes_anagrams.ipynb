{
  "nbformat": 4,
  "nbformat_minor": 0,
  "metadata": {
    "colab": {
      "name": "Palindromes_anagrams.ipynb",
      "provenance": [],
      "collapsed_sections": [],
      "authorship_tag": "ABX9TyME2bbMArKmNArpWRZPHOEl"
    },
    "kernelspec": {
      "name": "python3",
      "display_name": "Python 3"
    }
  },
  "cells": [
    {
      "cell_type": "code",
      "metadata": {
        "colab": {
          "base_uri": "https://localhost:8080/"
        },
        "id": "0yorVmx5Zblf",
        "outputId": "5df1096f-8993-4d19-8487-996916448138"
      },
      "source": [
        "\"\"\" Napisz program, który prosi użytkownika o podanie dowolnego napisu. \r\n",
        " Następnie program wyświetla na ekranie to słowo wspak (od prawej do lewej) \r\n",
        " i wyświetla komunikat czy to wyrażenie jest palindromem \r\n",
        " (czyli czytane wspak daje do samo wyrażenie np. “ala”, “Kobyła ma mały bok” \r\n",
        " (inne przykłady: http://www.palindromy.pl/pal_kr.php). \r\n",
        " Podczas sprawdzania ignoruj wielkość liter oraz znaki niebędące literami. \r\n",
        " Następnie wywołaj dowolną stronę internetową, która pokaże anagramy oraz słowa utworzone po usunięciu liter, \r\n",
        " np. https://poocoo.pl/scrabble-slowa-z-liter/hardcoder \r\n",
        "\r\n",
        " Propozycja rozszerzenia: samodzielnie wyszukaj anagramy i słowa utworzone po usunięciu liter z podanego słowa, \r\n",
        " na przykład wykorzystując słownik wspomniany na stronie https://anagramy.wybornie.com/ \r\n",
        "\r\n",
        "\"\"\"\r\n",
        "\r\n",
        "import re\r\n",
        "#import time\r\n",
        "#import webbowser\r\n",
        "\r\n",
        "pharse = input(\"Give a word or sentence: \").lower().replace(\" \", \"\")\r\n",
        "pharse = re.sub(\"[^a-z żółćąężśń]\", \"\", pharse)\r\n",
        "\r\n",
        "if pharse == pharse[::-1]:\r\n",
        "   print(\"A given pharse is a plindrome.\")\r\n",
        "   #time.sleep(4)\r\n",
        "   #webbrowser.open(\"https://poocoo.pl/scrabble-slowa-z-liter/\" + pharse)\r\n",
        "else:\r\n",
        "    print(\"A given pharse is not a plindrome.\")"
      ],
      "execution_count": null,
      "outputs": [
        {
          "output_type": "stream",
          "text": [
            "Give a word or sentence: ada\n",
            "A given pharse is a plindrome.\n"
          ],
          "name": "stdout"
        }
      ]
    }
  ]
}